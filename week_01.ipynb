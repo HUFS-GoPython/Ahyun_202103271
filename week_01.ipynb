{
 "cells": [
  {
   "cell_type": "markdown",
   "id": "72c813f6-658a-481c-91dc-f701be21c7d3",
   "metadata": {
    "tags": []
   },
   "source": [
    "# Advanced Python 20220304"
   ]
  },
  {
   "cell_type": "markdown",
   "id": "88136e99-8961-4f59-8fdb-a0bc53402cb7",
   "metadata": {},
   "source": [
    "*****"
   ]
  },
  {
   "cell_type": "markdown",
   "id": "6e3ee70f-a11b-46b8-94b0-e87bba52b8cd",
   "metadata": {},
   "source": [
    "## jupyter lab"
   ]
  },
  {
   "cell_type": "markdown",
   "id": "cca621c6-7cda-4b83-ab6d-125bb9a7cc58",
   "metadata": {},
   "source": [
    "- b : insult cell below\n",
    "\n",
    "- shift + enter : run"
   ]
  },
  {
   "cell_type": "markdown",
   "id": "ba57872f-8b48-4ce8-bd51-f142585afa31",
   "metadata": {},
   "source": [
    "## Markdown"
   ]
  },
  {
   "cell_type": "markdown",
   "id": "fc7a8ca0-51b7-4713-8ed2-32d9aa66a6db",
   "metadata": {
    "tags": []
   },
   "source": [
    "- Heading : # + \"Heading\"\n",
    "\n",
    "- ```#``` : 1 to 6"
   ]
  },
  {
   "cell_type": "markdown",
   "id": "912d5865-e947-4a2f-930e-31c8da10dbd0",
   "metadata": {},
   "source": [
    "# Heading 1\n",
    "## Heading 2\n",
    "### Heading 3\n",
    "#### Heading 4\n",
    "##### Heading 5\n",
    "###### Heading 6"
   ]
  },
  {
   "cell_type": "markdown",
   "id": "966e5f21-1b52-416b-84fd-71adb3454e24",
   "metadata": {},
   "source": [
    "## Comment"
   ]
  },
  {
   "cell_type": "code",
   "execution_count": 3,
   "id": "ad7f4513-963d-4007-a356-3c520ae568df",
   "metadata": {},
   "outputs": [
    {
     "name": "stdout",
     "output_type": "stream",
     "text": [
      "45\n"
     ]
    }
   ],
   "source": [
    "print(45) #주석처리"
   ]
  },
  {
   "cell_type": "markdown",
   "id": "3f366dfc-b477-4e44-8f5e-c382fdf49331",
   "metadata": {},
   "source": [
    "*****"
   ]
  },
  {
   "cell_type": "markdown",
   "id": "875aba36-3abd-41fa-b7f6-5621f784dd81",
   "metadata": {},
   "source": [
    "## 프로그래밍\n",
    " - 프로그래밍 언어를 사용해서 프로그램을 개발하는 것\n",
    " - 논리적인 사고를 가질 수 있음\n",
    " \n",
    " ## 프로그래밍 언어\n",
    " - 프로그램 개발 시 사용하는 언어\n",
    " - 인간이 원하는 것을 컴퓨터에게 명령할 때 사용하는 컴퓨터가 이해할 수 있는 언어\n",
    " \n",
    " ## 파이썬\n",
    " - 쉽고 간결한 프로그래밍 언어\n",
    " - 라이브러리 많음"
   ]
  },
  {
   "cell_type": "markdown",
   "id": "68acca08-f51d-4181-a68b-352fa494f47e",
   "metadata": {},
   "source": [
    "*****"
   ]
  },
  {
   "cell_type": "markdown",
   "id": "e4ff2b6c-29ff-4584-8790-1a66ba731aa9",
   "metadata": {},
   "source": [
    "# Chapter 2. Data : Types, Values, Variables and Names"
   ]
  },
  {
   "cell_type": "code",
   "execution_count": 6,
   "id": "d9d36fae-5352-4845-a339-ec0ee7f1b402",
   "metadata": {},
   "outputs": [
    {
     "data": {
      "text/plain": [
       "2"
      ]
     },
     "execution_count": 6,
     "metadata": {},
     "output_type": "execute_result"
    }
   ],
   "source": [
    "a = 2\n",
    "a"
   ]
  },
  {
   "cell_type": "code",
   "execution_count": 7,
   "id": "de6bfcbc-f537-4ef7-bd4e-408bd2a8ec9b",
   "metadata": {},
   "outputs": [
    {
     "data": {
      "text/plain": [
       "True"
      ]
     },
     "execution_count": 7,
     "metadata": {},
     "output_type": "execute_result"
    }
   ],
   "source": [
    "a == 2"
   ]
  },
  {
   "cell_type": "markdown",
   "id": "c87a66aa-95d4-4b7b-a5bb-0244c1d141c5",
   "metadata": {},
   "source": [
    "* 변수(variable) : 특정한 값을 지정하는 공간, a\n",
    "\n",
    "+ 값 (value) : 2\n",
    "\n",
    "- 할당하다 (assign) : 변수에 값을 넣는 과정, \"2를 a에 넣었다.\"\n",
    "  - a는 2다. a == 2\n",
    "  \n",
    "+ 자료형 (type) : 데이터의 형태\n",
    "  + a의 데이터 형태? int (integer)"
   ]
  },
  {
   "cell_type": "code",
   "execution_count": 8,
   "id": "51c15f80-f1bb-4805-b0e2-1783fa9adf02",
   "metadata": {},
   "outputs": [
    {
     "name": "stdout",
     "output_type": "stream",
     "text": [
      "2\n"
     ]
    },
    {
     "data": {
      "text/plain": [
       "2"
      ]
     },
     "execution_count": 8,
     "metadata": {},
     "output_type": "execute_result"
    }
   ],
   "source": [
    "print(a)\n",
    "a"
   ]
  },
  {
   "cell_type": "code",
   "execution_count": 10,
   "id": "0f2e9e6e-1ee4-4ca7-9ec5-98b0bb34504c",
   "metadata": {},
   "outputs": [
    {
     "data": {
      "text/plain": [
       "int"
      ]
     },
     "execution_count": 10,
     "metadata": {},
     "output_type": "execute_result"
    }
   ],
   "source": [
    "# type\n",
    "type(a)"
   ]
  },
  {
   "cell_type": "code",
   "execution_count": 11,
   "id": "6b74e769-162b-41bb-9538-88c93e06b550",
   "metadata": {},
   "outputs": [
    {
     "data": {
      "text/plain": [
       "int"
      ]
     },
     "execution_count": 11,
     "metadata": {},
     "output_type": "execute_result"
    }
   ],
   "source": [
    "type(2)"
   ]
  },
  {
   "cell_type": "code",
   "execution_count": 12,
   "id": "5dc7c5ef-9f13-4fbe-adf3-d4d0ac250030",
   "metadata": {},
   "outputs": [
    {
     "data": {
      "text/plain": [
       "bool"
      ]
     },
     "execution_count": 12,
     "metadata": {},
     "output_type": "execute_result"
    }
   ],
   "source": [
    "type (a == 2) #bool, boolean T/F"
   ]
  },
  {
   "cell_type": "markdown",
   "id": "ebf23211-2b9e-487e-b2d7-ec75546cae88",
   "metadata": {
    "tags": []
   },
   "source": [
    "### Type\n",
    "- integer (정수) : 1,2,3,... int\n",
    "- floating point number (부동소수점) : 0.5, 1.0, 2.1,... float\n",
    "- string (문자열) :\"1\", 'apple'... str\n",
    "- boolean (불리안) : True / False  bool"
   ]
  },
  {
   "cell_type": "code",
   "execution_count": 13,
   "id": "56a05522-ba49-4b11-90ee-6810a74672d5",
   "metadata": {},
   "outputs": [
    {
     "data": {
      "text/plain": [
       "str"
      ]
     },
     "execution_count": 13,
     "metadata": {},
     "output_type": "execute_result"
    }
   ],
   "source": [
    "type(\"1\")"
   ]
  },
  {
   "cell_type": "code",
   "execution_count": 14,
   "id": "7324ec2d-815a-49dc-9c5a-32d3465aaab4",
   "metadata": {},
   "outputs": [
    {
     "data": {
      "text/plain": [
       "str"
      ]
     },
     "execution_count": 14,
     "metadata": {},
     "output_type": "execute_result"
    }
   ],
   "source": [
    "type('apple')"
   ]
  },
  {
   "cell_type": "code",
   "execution_count": 38,
   "id": "6843f739-374c-4492-a0e3-7055918558fd",
   "metadata": {},
   "outputs": [
    {
     "ename": "NameError",
     "evalue": "name 'apple' is not defined",
     "output_type": "error",
     "traceback": [
      "\u001b[1;31m---------------------------------------------------------------------------\u001b[0m",
      "\u001b[1;31mNameError\u001b[0m                                 Traceback (most recent call last)",
      "\u001b[1;32m~\\AppData\\Local\\Temp/ipykernel_19172/741650994.py\u001b[0m in \u001b[0;36m<module>\u001b[1;34m\u001b[0m\n\u001b[1;32m----> 1\u001b[1;33m \u001b[0mtype\u001b[0m\u001b[1;33m(\u001b[0m\u001b[0mapple\u001b[0m\u001b[1;33m)\u001b[0m \u001b[1;31m#변수명이라서 오류 발생\u001b[0m\u001b[1;33m\u001b[0m\u001b[1;33m\u001b[0m\u001b[0m\n\u001b[0m",
      "\u001b[1;31mNameError\u001b[0m: name 'apple' is not defined"
     ]
    }
   ],
   "source": [
    "type(apple) #변수명이라서 오류 발생"
   ]
  },
  {
   "cell_type": "code",
   "execution_count": 19,
   "id": "2052748e-4807-4c17-9a48-0ed303657b06",
   "metadata": {},
   "outputs": [
    {
     "data": {
      "text/plain": [
       "'kim'"
      ]
     },
     "execution_count": 19,
     "metadata": {},
     "output_type": "execute_result"
    }
   ],
   "source": [
    "name = 'kim'\n",
    "name"
   ]
  },
  {
   "cell_type": "code",
   "execution_count": 20,
   "id": "233a175b-3a47-4c36-b2b9-35779ee91c7e",
   "metadata": {},
   "outputs": [
    {
     "name": "stdout",
     "output_type": "stream",
     "text": [
      "kim\n"
     ]
    }
   ],
   "source": [
    "print(name)"
   ]
  },
  {
   "cell_type": "code",
   "execution_count": 21,
   "id": "aad9a4f0-4563-4f3d-9235-df8c94053a84",
   "metadata": {},
   "outputs": [
    {
     "name": "stdout",
     "output_type": "stream",
     "text": [
      "kim\n"
     ]
    }
   ],
   "source": [
    "print('kim')"
   ]
  },
  {
   "cell_type": "markdown",
   "id": "076db8be-cb10-48bf-a0ac-4477ccfc8930",
   "metadata": {},
   "source": [
    "### 할당\n",
    "- 등호 = 기호를 사용함\n",
    "- 수학에서는 양변이 같다는 의미로 사용되지만, 프로그래밍에서는 할당하다라는 의미가 추가됨\n",
    "- 오른쪽의 값을 왼쪽에 할당\n",
    "  1. 오른쪽에 있는 모든 것은 값을 가져야 함 (초기화 해야함)\n",
    "  2. 같은 변수에 다른 값을 넣을 수 있음"
   ]
  },
  {
   "cell_type": "code",
   "execution_count": 22,
   "id": "656bb55f-9241-434f-8f6a-1ef62a9f5067",
   "metadata": {},
   "outputs": [],
   "source": [
    "x = 4 #초기화\n",
    "y = x + 3"
   ]
  },
  {
   "cell_type": "code",
   "execution_count": 23,
   "id": "30534b67-a402-43f7-b0a6-88d13ba95789",
   "metadata": {},
   "outputs": [
    {
     "data": {
      "text/plain": [
       "(4, 7)"
      ]
     },
     "execution_count": 23,
     "metadata": {},
     "output_type": "execute_result"
    }
   ],
   "source": [
    "x, y"
   ]
  },
  {
   "cell_type": "code",
   "execution_count": 24,
   "id": "43dc05e2-c8ad-4119-94f9-a2f3f4cc3e15",
   "metadata": {},
   "outputs": [],
   "source": [
    "name = 'kim'\n",
    "name = 'Ahyun'\n",
    "name = 4"
   ]
  },
  {
   "cell_type": "code",
   "execution_count": 26,
   "id": "384d3356-8e06-48af-a253-f277c77ceed9",
   "metadata": {},
   "outputs": [
    {
     "name": "stdout",
     "output_type": "stream",
     "text": [
      "4\n"
     ]
    }
   ],
   "source": [
    "print(name) #변수명 동일하게 사용하지 말자"
   ]
  },
  {
   "cell_type": "markdown",
   "id": "f38689ac-212a-493e-807a-f9f7ae322fa6",
   "metadata": {
    "tags": []
   },
   "source": [
    "### 변수명 정하기\n",
    "- 나쁜 변수명 : a, b, a1, b2, ...\n",
    "- 의미있는 이름을 선언해야 함\n",
    "- 소문자, 대문자, 숫자, 언더바를 사용\n",
    "  * 예) name, name2, my_name, myNAme, NAME"
   ]
  },
  {
   "cell_type": "code",
   "execution_count": 32,
   "id": "323bd12e-e01d-44db-a7ca-9ee5b7f605fd",
   "metadata": {},
   "outputs": [
    {
     "name": "stdout",
     "output_type": "stream",
     "text": [
      "Laura, Jessica, David\n"
     ]
    }
   ],
   "source": [
    "name = 'Laura'\n",
    "name2 = 'Jessica'\n",
    "my_name = 'David'\n",
    "print(name, name2, my_name, sep=', ')"
   ]
  },
  {
   "cell_type": "markdown",
   "id": "11bbdb8a-ace3-4f8e-ad45-d3ff2d98787e",
   "metadata": {},
   "source": [
    "- 안되는 것\n",
    "  * 숫자로 시작할 수 없음 예)22name, 22_name\n",
    "  * 예약어로 선언할 수 없음 예)def, False,..."
   ]
  },
  {
   "cell_type": "code",
   "execution_count": 33,
   "id": "1d695a16-c9ad-4323-bd48-632042ab9a7d",
   "metadata": {},
   "outputs": [
    {
     "name": "stdout",
     "output_type": "stream",
     "text": [
      "\n",
      "Here is a list of the Python keywords.  Enter any keyword to get more help.\n",
      "\n",
      "False               break               for                 not\n",
      "None                class               from                or\n",
      "True                continue            global              pass\n",
      "__peg_parser__      def                 if                  raise\n",
      "and                 del                 import              return\n",
      "as                  elif                in                  try\n",
      "assert              else                is                  while\n",
      "async               except              lambda              with\n",
      "await               finally             nonlocal            yield\n",
      "\n"
     ]
    }
   ],
   "source": [
    "# if = 'kim'\n",
    "help(\"keywords\")"
   ]
  },
  {
   "cell_type": "markdown",
   "id": "b57b1fed-e07d-4a00-9ce8-836aaea62307",
   "metadata": {
    "tags": []
   },
   "source": [
    "- 조심할 것 : 특별한 용도가 있기 때문에\n",
    "  * 언더바로 시작하는 변수명 : _name\n",
    "  * 더블언더바로 시작하는 변수명 : __name__\n",
    "  * 대문자로 시작하는 변수명 : Name\n",
    "  * 전체대문자 : NAME"
   ]
  },
  {
   "cell_type": "code",
   "execution_count": 34,
   "id": "2058f3ec-cd7b-44d1-9b41-62d117b0cad6",
   "metadata": {},
   "outputs": [],
   "source": [
    "# 변수명은 대소문자 구분\n",
    "num = 43\n",
    "Num = 44"
   ]
  },
  {
   "cell_type": "code",
   "execution_count": 35,
   "id": "5e612302-469d-4d2e-86e8-0c05a1c193e1",
   "metadata": {},
   "outputs": [
    {
     "data": {
      "text/plain": [
       "False"
      ]
     },
     "execution_count": 35,
     "metadata": {},
     "output_type": "execute_result"
    }
   ],
   "source": [
    "num == Num"
   ]
  },
  {
   "cell_type": "code",
   "execution_count": 36,
   "id": "fb227479-fd58-4439-888a-90f17891be5c",
   "metadata": {},
   "outputs": [
    {
     "data": {
      "text/plain": [
       "False"
      ]
     },
     "execution_count": 36,
     "metadata": {},
     "output_type": "execute_result"
    }
   ],
   "source": [
    "num = 'number'\n",
    "Num = 'Number'\n",
    "\n",
    "num == Num"
   ]
  },
  {
   "cell_type": "code",
   "execution_count": 37,
   "id": "45a7331c-226f-4fa9-83ed-91dd9bf85a9c",
   "metadata": {},
   "outputs": [
    {
     "data": {
      "text/plain": [
       "True"
      ]
     },
     "execution_count": 37,
     "metadata": {},
     "output_type": "execute_result"
    }
   ],
   "source": [
    "num != Num"
   ]
  }
 ],
 "metadata": {
  "kernelspec": {
   "display_name": "Python 3 (ipykernel)",
   "language": "python",
   "name": "python3"
  },
  "language_info": {
   "codemirror_mode": {
    "name": "ipython",
    "version": 3
   },
   "file_extension": ".py",
   "mimetype": "text/x-python",
   "name": "python",
   "nbconvert_exporter": "python",
   "pygments_lexer": "ipython3",
   "version": "3.9.7"
  }
 },
 "nbformat": 4,
 "nbformat_minor": 5
}
